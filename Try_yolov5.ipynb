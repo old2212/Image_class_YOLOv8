{
 "cells": [
  {
   "cell_type": "code",
   "execution_count": 1,
   "metadata": {},
   "outputs": [
    {
     "name": "stderr",
     "output_type": "stream",
     "text": [
      "YOLOv5 🚀 v7.0-72-g064365d Python-3.10.9 torch-1.13.1 CPU\n"
     ]
    },
    {
     "name": "stdout",
     "output_type": "stream",
     "text": [
      "Setup complete ✅ (12 CPUs, 16.0 GB RAM, 199.3/233.5 GB disk)\n"
     ]
    }
   ],
   "source": [
    "!git clone https://github.com/ultralytics/yolov5  # clone\n",
    "%cd yolov5\n",
    "%pip install -qr requirements.txt  # install\n",
    "\n",
    "import torch\n",
    "import utils\n",
    "display = utils.notebook_init()  # checks"
   ]
  },
  {
   "cell_type": "code",
   "execution_count": 2,
   "metadata": {},
   "outputs": [],
   "source": [
    "# !git clone https://github.com/DarvinX/trash_classifier.git"
   ]
  },
  {
   "cell_type": "code",
   "execution_count": 3,
   "metadata": {},
   "outputs": [
    {
     "name": "stdout",
     "output_type": "stream",
     "text": [
      "[Errno 2] No such file or directory: '../data/'\n",
      "/Users/olivier_ld/BECODE/Poultry_disease/yolov5\n",
      "loading Roboflow workspace...\n",
      "loading Roboflow project...\n",
      "Downloading Dataset Version Zip in poultry_disease_dropping-1 to folder: 100% [3959580 / 3959580] bytes\n"
     ]
    },
    {
     "name": "stderr",
     "output_type": "stream",
     "text": [
      "Extracting Dataset Version Zip to poultry_disease_dropping-1 in folder:: 100%|██████████| 100/100 [00:00<00:00, 2083.67it/s]\n"
     ]
    }
   ],
   "source": [
    "# !pip install roboflow\n",
    "\n",
    "%cd ../data/\n",
    "\n",
    "from roboflow import Roboflow\n",
    "rf = Roboflow(api_key=\"")\n",
    "project = rf.workspace(\"becode-hycbg\").project(\"poultry_disease_dropping\")\n",
    "dataset = project.version(1).download(\"folder\")"
   ]
  },
  {
   "cell_type": "code",
   "execution_count": 4,
   "metadata": {},
   "outputs": [],
   "source": [
    "from yolov5.utils.downloads import attempt_download\n",
    "\n",
    "p5 = ['n', 's', 'm', 'l', 'x']  # P5 models\n",
    "cls = [f'{x}-cls' for x in p5]  # classification models\n",
    "\n",
    "for x in cls:\n",
    "    attempt_download(f'weights/yolov5{x}.pt')"
   ]
  },
  {
   "cell_type": "code",
   "execution_count": 5,
   "metadata": {},
   "outputs": [
    {
     "name": "stdout",
     "output_type": "stream",
     "text": [
      "Traceback (most recent call last):\n",
      "  File \"/Users/olivier_ld/BECODE/Poultry_disease/yolov5/classify/train.py\", line 39, in <module>\n",
      "    from classify import val as validate\n",
      "  File \"/Users/olivier_ld/BECODE/Poultry_disease/yolov5/classify/val.py\", line 37, in <module>\n",
      "    from models.common import DetectMultiBackend\n",
      "  File \"/Users/olivier_ld/BECODE/Poultry_disease/yolov5/models/common.py\", line 28, in <module>\n",
      "    from utils import TryExcept\n",
      "ImportError: cannot import name 'TryExcept' from 'utils' (/Users/olivier_ld/BECODE/Droppings/ENV_droppings/lib/python3.10/site-packages/utils/__init__.py)\n"
     ]
    }
   ],
   "source": [
    "\n",
    "from yolov5.utils.downloads import attempt_download\n",
    "\n",
    "p5 = ['n', 's', 'm', 'l', 'x']  # P5 models\n",
    "cls = [f'{x}-cls' for x in p5]  # classification models\n",
    "\n",
    "for x in cls:\n",
    "    attempt_download(f'weights/yolov5{x}.pt')\n",
    "!python classify/train.py --model yolov5s-cls.pt --data $DATASET_NAME --epochs 5 --img 128 --pretrained weights/yolov5s-cls.pt\n"
   ]
  },
  {
   "cell_type": "code",
   "execution_count": 6,
   "metadata": {},
   "outputs": [
    {
     "name": "stdout",
     "output_type": "stream",
     "text": [
      "/Users/olivier_ld/BECODE/Poultry_disease/yolov5\n",
      "Traceback (most recent call last):\n",
      "  File \"/Users/olivier_ld/BECODE/Poultry_disease/yolov5/classify/val.py\", line 37, in <module>\n",
      "    from models.common import DetectMultiBackend\n",
      "  File \"/Users/olivier_ld/BECODE/Poultry_disease/yolov5/models/common.py\", line 28, in <module>\n",
      "    from utils import TryExcept\n",
      "ImportError: cannot import name 'TryExcept' from 'utils' (/Users/olivier_ld/BECODE/Droppings/ENV_droppings/lib/python3.10/site-packages/utils/__init__.py)\n"
     ]
    }
   ],
   "source": [
    "%cd ../yolov5\n",
    "!python classify/val.py --weights runs/train-cls/exp2/weights/best.pt --data ./trash_classifier/dataset/"
   ]
  }
 ],
 "metadata": {
  "kernelspec": {
   "display_name": "ENV_droppings",
   "language": "python",
   "name": "python3"
  },
  "language_info": {
   "codemirror_mode": {
    "name": "ipython",
    "version": 3
   },
   "file_extension": ".py",
   "mimetype": "text/x-python",
   "name": "python",
   "nbconvert_exporter": "python",
   "pygments_lexer": "ipython3",
   "version": "3.10.9 (main, Dec 15 2022, 18:25:35) [Clang 14.0.0 (clang-1400.0.29.202)]"
  },
  "orig_nbformat": 4,
  "vscode": {
   "interpreter": {
    "hash": "202e6159eb59bd519411d65ba175ad733af2dccfe1110aba02385801d6ad6ddf"
   }
  }
 },
 "nbformat": 4,
 "nbformat_minor": 2
}
